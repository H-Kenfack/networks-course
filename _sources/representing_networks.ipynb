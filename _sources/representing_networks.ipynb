{
 "cells": [
  {
   "cell_type": "markdown",
   "metadata": {},
   "source": [
    "# Representing networks"
   ]
  },
  {
   "cell_type": "markdown",
   "metadata": {},
   "source": [
    "## Representing networks mathematically"
   ]
  },
  {
   "cell_type": "markdown",
   "metadata": {},
   "source": [
    "The most common representation of a network in a mathematical sense is an **adjacency matrix**. For a network with $n$ nodes, an adjacency matrix is an $n \\times n$ matrix, which we'll often denote $A$. If there is an edge between node $i$ and node $j$, then there is some nonzero element at the $i, j$-th element of $A$, $a_{ij}$. \n",
    "\n",
    "For an **unweighted network**, the convention is for the matrix to have a \"1\" anywhere there is an edge, and a \"0\" otherwise. One example of an unweighted network is a social network, where each node is a person. We could say that there is an edge between two people if they are friends on Facebook, and there is not an edge otherwise.\n",
    "\n",
    "For a **weighted network**, $a_{ij}$ will have a nonzero value representing the weight associated with that edge. For an example of a weighted network, we could consider another social network formed from email communications. We could say that there is an edge between any two people who emailed each other during a given time period, but we could further say that the edge weight is the *number of emails* between them.\n",
    "\n",
    "For a **directed network**, "
   ]
  },
  {
   "cell_type": "markdown",
   "metadata": {},
   "source": [
    "## Representing networks in code"
   ]
  }
 ],
 "metadata": {
  "interpreter": {
   "hash": "ca63c264430eab6250862234ae6781e2ab7787602f15e900df4c63bc07e6ee63"
  },
  "kernelspec": {
   "display_name": "Python 3.7.0 64-bit ('maggot': conda)",
   "language": "python",
   "name": "python3"
  },
  "language_info": {
   "codemirror_mode": {
    "name": "ipython",
    "version": 3
   },
   "file_extension": ".py",
   "mimetype": "text/x-python",
   "name": "python",
   "nbconvert_exporter": "python",
   "pygments_lexer": "ipython3",
   "version": "3.7.0"
  },
  "orig_nbformat": 4
 },
 "nbformat": 4,
 "nbformat_minor": 2
}
