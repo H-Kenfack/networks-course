{
 "cells": [
  {
   "cell_type": "markdown",
   "metadata": {},
   "source": [
    "# Representing networks"
   ]
  },
  {
   "cell_type": "markdown",
   "metadata": {},
   "source": [
    "## Representing networks mathematically"
   ]
  },
  {
   "cell_type": "markdown",
   "metadata": {},
   "source": [
    "The most common representation of a network in a mathematical sense is an **adjacency matrix**. For a network with $n$ nodes, an adjacency matrix is an $n \\times n$ matrix, which we'll often denote $A$. If there is an edge between node $i$ and node $j$, then there is some nonzero element at the $i, j$-th element of $A$, $a_{ij}$. \n",
    "\n",
    "For an **unweighted network**, the convention is for the matrix to have a \"1\" anywhere there is an edge, and a \"0\" otherwise. One example of an unweighted network is a social network, where each node is a person. We could say that there is an edge between two people if they are friends on Facebook, and there is not an edge otherwise. You may \n",
    "also hear the term \"binary network\" used to mean unweighted, since the elements of the adjacency matrix are 0s and 1s.\n",
    "\n",
    "For a **weighted network**, $a_{ij}$ will have a nonzero value representing the weight associated with that edge. For an example of a weighted network, we could consider another social network formed from email communications. We could say that there is an edge between any two people who emailed each other during a given time period, but we could further say that the edge weight is the *number of emails* between them.\n",
    "\n",
    "For an **undirected network**, we are only interested in whether there is a relationship\n",
    "between node $i$ and node $j$. There is no distinction between an edge from $i$\n",
    "to $j$ vs an edge from $j$ to $i$. Thus, in the adjacency matrix, we have that \n",
    "$a_{ij} = a_{ji}$. This makes the matrix *symmetric*: $A = A^T$. In our social network \n",
    "analogy, an undirected network could come from a network of Facebook friends, where a \n",
    "friendship from person $i$ to $j$ necessarily implies that $j$ is friends with $i$. \n",
    "\n",
    "For a **directed network**, we do not have the constraint above, and $a_{ij}$ does not \n",
    "necessarily equal $a_{ji}$. Continuing our social network analogy, Twitter could be\n",
    "modeled as a network of accounts, with directed edges from $i$ to $j$ if person $i$ \n",
    "follows person $j$. Since Twitter does not require people to follow each other back, this is a directed network. "
   ]
  },
  {
   "cell_type": "markdown",
   "metadata": {},
   "source": [
    "## Representing networks in code"
   ]
  },
  {
   "cell_type": "markdown",
   "metadata": {},
   "source": [
    "There are many ways to represent networks in Python. For instance, we can use the adjacency matrix representation described above. We'll start with an example of a directed graph on 5 nodes:"
   ]
  },
  {
   "cell_type": "code",
   "execution_count": 1,
   "metadata": {},
   "outputs": [
    {
     "data": {
      "text/plain": [
       "array([[0., 1., 0., 0., 0.],\n",
       "       [0., 0., 1., 0., 1.],\n",
       "       [0., 1., 0., 1., 0.],\n",
       "       [0., 0., 0., 0., 0.],\n",
       "       [0., 1., 0., 0., 0.]])"
      ]
     },
     "execution_count": 1,
     "metadata": {},
     "output_type": "execute_result"
    }
   ],
   "source": [
    "import numpy as np\n",
    "\n",
    "n_nodes = 5\n",
    "\n",
    "A = np.zeros((n_nodes,n_nodes)) # initialize to a graph with no edges \n",
    "\n",
    "A[0, 1] = 1\n",
    "A[1, 2] = 1\n",
    "A[1, 4] = 1\n",
    "A[2, 1] = 1\n",
    "A[2, 3] = 1\n",
    "A[4, 1] = 1\n",
    "\n",
    "A"
   ]
  },
  {
   "cell_type": "markdown",
   "metadata": {},
   "source": [
    "We can check whether the network is directed:"
   ]
  },
  {
   "cell_type": "code",
   "execution_count": 8,
   "metadata": {},
   "outputs": [
    {
     "name": "stdout",
     "output_type": "stream",
     "text": [
      "Is this network undirected?\n",
      "False\n"
     ]
    }
   ],
   "source": [
    "equals = (A == A.T) # a matrix comparing each element\n",
    "print(\"Is this network undirected?\")\n",
    "print(equals.all()) # is this matrix all true?"
   ]
  },
  {
   "cell_type": "markdown",
   "metadata": {},
   "source": [
    "We can do the same thing using `graspologic`, as well as force the matrix to be symmetric/undirected:"
   ]
  },
  {
   "cell_type": "code",
   "execution_count": 12,
   "metadata": {},
   "outputs": [
    {
     "name": "stdout",
     "output_type": "stream",
     "text": [
      "False\n"
     ]
    },
    {
     "data": {
      "text/plain": [
       "array([[0. , 0.5, 0. , 0. , 0. ],\n",
       "       [0.5, 0. , 1. , 0. , 1. ],\n",
       "       [0. , 1. , 0. , 0.5, 0. ],\n",
       "       [0. , 0. , 0.5, 0. , 0. ],\n",
       "       [0. , 1. , 0. , 0. , 0. ]])"
      ]
     },
     "execution_count": 12,
     "metadata": {},
     "output_type": "execute_result"
    }
   ],
   "source": [
    "from graspologic.utils import symmetrize, is_symmetric\n",
    "\n",
    "print(is_symmetric(A))\n",
    "\n",
    "A_sym = symmetrize(A)\n",
    "A_sym"
   ]
  },
  {
   "cell_type": "markdown",
   "metadata": {},
   "source": [
    "Now, we see that we have a weighted network - not all edge weights are equal to 0 or 1. This is because `symmetrize` \n",
    "used the average of edge weights between the edge $i \\rightarrow j$ and the edge $j \\rightarrow i$. To\n",
    "make the network symmetric/undirected.\n",
    "\n"
   ]
  }
 ],
 "metadata": {
  "interpreter": {
   "hash": "c3423c616dc2c56c4ac2c35df84cd358fdd1f7e3ed83f0665c8486ea72bb1b48"
  },
  "kernelspec": {
   "display_name": "Python 3.9.7 64-bit ('.venv': poetry)",
   "language": "python",
   "name": "python3"
  },
  "language_info": {
   "codemirror_mode": {
    "name": "ipython",
    "version": 3
   },
   "file_extension": ".py",
   "mimetype": "text/x-python",
   "name": "python",
   "nbconvert_exporter": "python",
   "pygments_lexer": "ipython3",
   "version": "3.9.7"
  },
  "orig_nbformat": 4
 },
 "nbformat": 4,
 "nbformat_minor": 2
}
