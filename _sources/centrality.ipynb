{
 "cells": [
  {
   "cell_type": "markdown",
   "metadata": {},
   "source": [
    "# Centrality measures\n",
    "\n",
    "Much of this content is based heavily on Section 7.1 from Mark Newman's \"Networks\"\n",
    "{cite:p}`newman2018networks`. \n",
    "\n",
    "Lots of research has gone into studying various notions of a \"how important is each node?\" in \n",
    "a network. Of course, as this vague question suggests, there are many ways to define \n",
    "what we mean by important. Below, we'll cover a few of the most famous and commonly \n",
    "used notions, primarily because it will be useful to know what these terms mean when \n",
    "reading studies which use network science. Also, many of these methods are based on\n",
    "elegant and relatively simple mathematics. "
   ]
  },
  {
   "cell_type": "markdown",
   "metadata": {},
   "source": [
    "## Degrees\n",
    "\n",
    "The first notion of centrality we'll consider is the node's [**degree**](https://en.wikipedia.org/wiki/Degree_(graph_theory)), sometimes called **degree centrality**, \n",
    "though I personally won't use that term. The degree of a node is simply the number of other nodes to which it\n",
    "is connected.\n",
    "\n"
   ]
  },
  {
   "cell_type": "code",
   "execution_count": 26,
   "metadata": {},
   "outputs": [
    {
     "data": {
      "text/plain": [
       "DegreeView({0: 16, 1: 9, 2: 10, 3: 6, 4: 3, 5: 4, 6: 4, 7: 4, 8: 5, 9: 2, 10: 3, 11: 1, 12: 2, 13: 5, 14: 2, 15: 2, 16: 2, 17: 2, 18: 2, 19: 3, 20: 2, 21: 2, 22: 2, 23: 5, 24: 3, 25: 3, 26: 2, 27: 4, 28: 3, 29: 4, 30: 4, 31: 6, 32: 12, 33: 17})"
      ]
     },
     "execution_count": 26,
     "metadata": {},
     "output_type": "execute_result"
    }
   ],
   "source": [
    "import networkx as nx\n",
    "import numpy as np\n",
    "\n",
    "g = nx.karate_club_graph()\n",
    "g.degree()"
   ]
  },
  {
   "cell_type": "markdown",
   "metadata": {},
   "source": [
    "This output is essentially a dictionary mapping each node in the network to its degree.\n",
    "\n",
    "Computing the degree is also quite easy with the adjacency matrix:"
   ]
  },
  {
   "cell_type": "code",
   "execution_count": 27,
   "metadata": {},
   "outputs": [
    {
     "data": {
      "text/plain": [
       "array([16.,  9., 10.,  6.,  3.,  4.,  4.,  4.,  5.,  2.,  3.,  1.,  2.,\n",
       "        5.,  2.,  2.,  2.,  2.,  2.,  3.,  2.,  2.,  2.,  5.,  3.,  3.,\n",
       "        2.,  4.,  3.,  4.,  4.,  6., 12., 17.])"
      ]
     },
     "execution_count": 27,
     "metadata": {},
     "output_type": "execute_result"
    }
   ],
   "source": [
    "A = nx.to_numpy_array(g)\n",
    "A.sum(axis=0)"
   ]
  },
  {
   "cell_type": "markdown",
   "metadata": {},
   "source": [
    "We see that the output matches, as expected. For a directed network, there are distinct \n",
    "notions of degree based on whether we are considering a node's outputs or inputs. These \n",
    "are simply termed **[out and in degree](https://en.wikipedia.org/wiki/Directed_graph#Indegree_and_outdegree)**, where\n",
    "out degree is the number of outputs from a given node, and likewise for the in degree.\n",
    "\n",
    "Let's see what this looks like to compute using `networkx` and an adjacency matrix:"
   ]
  },
  {
   "cell_type": "code",
   "execution_count": 28,
   "metadata": {},
   "outputs": [
    {
     "data": {
      "text/plain": [
       "array([26., 28., 28., 28., 27., 27., 26., 28., 26., 25., 27., 27., 26.,\n",
       "       25., 27., 28., 25., 25., 26., 26., 28., 27., 24., 26., 19., 24.,\n",
       "       20., 23., 26., 25.])"
      ]
     },
     "execution_count": 28,
     "metadata": {},
     "output_type": "execute_result"
    }
   ],
   "source": [
    "from graspologic.datasets import load_drosophila_left\n",
    "from graspologic.utils import binarize\n",
    "\n",
    "# load a subset of this adjacency matrix as our dataset\n",
    "A = load_drosophila_left()[:30, :30]\n",
    "A = binarize(A)\n",
    "\n",
    "out_degrees = A.sum(axis=1)\n",
    "out_degrees\n"
   ]
  },
  {
   "cell_type": "code",
   "execution_count": 29,
   "metadata": {},
   "outputs": [
    {
     "data": {
      "text/plain": [
       "array([27., 26., 26., 28., 29., 28., 25., 25., 25., 26., 23., 25., 28.,\n",
       "       25., 28., 27., 29., 25., 27., 29., 26., 26., 21., 25., 19., 21.,\n",
       "       21., 28., 27., 28.])"
      ]
     },
     "execution_count": 29,
     "metadata": {},
     "output_type": "execute_result"
    }
   ],
   "source": [
    "in_degrees = A.sum(axis=0)\n",
    "in_degrees"
   ]
  },
  {
   "cell_type": "code",
   "execution_count": 30,
   "metadata": {},
   "outputs": [
    {
     "data": {
      "text/plain": [
       "OutDegreeView({0: 26, 1: 28, 2: 28, 3: 28, 4: 27, 5: 27, 6: 26, 7: 28, 8: 26, 9: 25, 10: 27, 11: 27, 12: 26, 13: 25, 14: 27, 15: 28, 16: 25, 17: 25, 18: 26, 19: 26, 20: 28, 21: 27, 22: 24, 23: 26, 24: 19, 25: 24, 26: 20, 27: 23, 28: 26, 29: 25})"
      ]
     },
     "execution_count": 30,
     "metadata": {},
     "output_type": "execute_result"
    }
   ],
   "source": [
    "g = nx.from_numpy_array(A, create_using=nx.DiGraph)\n",
    "g.out_degree()"
   ]
  },
  {
   "cell_type": "code",
   "execution_count": 31,
   "metadata": {},
   "outputs": [
    {
     "data": {
      "text/plain": [
       "InDegreeView({0: 27, 1: 26, 2: 26, 3: 28, 4: 29, 5: 28, 6: 25, 7: 25, 8: 25, 9: 26, 10: 23, 11: 25, 12: 28, 13: 25, 14: 28, 15: 27, 16: 29, 17: 25, 18: 27, 19: 29, 20: 26, 21: 26, 22: 21, 23: 25, 24: 19, 25: 21, 26: 21, 27: 28, 28: 27, 29: 28})"
      ]
     },
     "execution_count": 31,
     "metadata": {},
     "output_type": "execute_result"
    }
   ],
   "source": [
    "g.in_degree()"
   ]
  },
  {
   "cell_type": "markdown",
   "metadata": {},
   "source": [
    "## Eigenvector centrality\n",
    "\n",
    "Our next notion of importance for each node is called **[eigenvector centrality](https://en.wikipedia.org/wiki/Eigenvector_centrality)**. The eigenvector centrality has an interesting, circular definition: nodes are considered more important if they themselves are connected to many important nodes. \n",
    "\n",
    "How can we write this down mathematically? Let's say that we are after a vector $x$, which \n",
    "has length $n$ (the number of nodes in our graph). Element $x_i$ in this vector will \n",
    "represent the eigenvector centrality that we are after for node $i$. Based on what we \n",
    "said about in the definition, then this means that we can write: \n",
    "\n",
    "$$x_i = c \\sum A_{ij} x_j$$\n",
    "\n",
    "How does this work? For any potential edge incident to $i$ that doesn't exist, $A_{ij} = 0$, \n",
    "and thus we won't sum up the contribution of those nodes which aren't neighbors of $i$. \n",
    "Why do we have a constant, $c$? Since the definition of eigenvector centrality is completely\n",
    "*relative*, we could put any constant $c > 0$, and the definition would hold. Since this \n",
    "choice is relative, let's set $c = \\frac{1}{\\lambda}$, where $\\lambda$ is the largest eigenvalue\n",
    "of $A$. \n",
    "\n",
    "$$x_i = \\frac{1}{\\lambda} \\sum A_{ij} x_j$$\n",
    "\n",
    "Now, this formula is starting to look like something we know from linear algebra. We\n",
    "can rewrite this set of equations (for all $i$) as a matrix/vector equation: \n",
    "\n",
    "$$\\lambda x = A x$$\n",
    "\n",
    "Which is the familiar definition of an eigenvector/eigenvalue, where in this case, $x$\n",
    "would correspond to the eigenvector of the largest eigenvalue of $A$. Why are we considering\n",
    "only the largest eigenvalue of $A$, rather than any other? This is because if we want a \n",
    "positive score for each node in our network, the only eigenvector with all positive elements\n",
    "will be the one we chose above, by a famous result called the [Perron-Frobenius theorem](https://en.wikipedia.org/wiki/Perron%E2%80%93Frobenius_theorem). \n",
    "\n"
   ]
  },
  {
   "cell_type": "code",
   "execution_count": 39,
   "metadata": {},
   "outputs": [
    {
     "data": {
      "text/plain": [
       "array([0.35549144, 0.26595992, 0.3171925 , 0.21117972, 0.07596882,\n",
       "       0.07948305, 0.07948305, 0.17095975, 0.22740391, 0.10267425,\n",
       "       0.07596882, 0.0528557 , 0.08425463, 0.22647272, 0.10140326,\n",
       "       0.10140326, 0.02363563, 0.09239954, 0.10140326, 0.14791251,\n",
       "       0.10140326, 0.09239954, 0.10140326, 0.15011857, 0.05705244,\n",
       "       0.05920647, 0.07557941, 0.13347715, 0.13107782, 0.13496082,\n",
       "       0.1747583 , 0.19103384, 0.30864422, 0.37336347])"
      ]
     },
     "execution_count": 39,
     "metadata": {},
     "output_type": "execute_result"
    }
   ],
   "source": [
    "g = nx.karate_club_graph()\n",
    "A = nx.to_numpy_array(g)\n",
    "\n",
    "eigenvalues, eigenvectors = np.linalg.eig(A)\n",
    "first_eigenvalue = eigenvalues[0]\n",
    "first_eigenvector = np.abs(eigenvectors[:, 0])\n",
    "first_eigenvector"
   ]
  },
  {
   "cell_type": "code",
   "execution_count": 41,
   "metadata": {},
   "outputs": [
    {
     "data": {
      "text/plain": [
       "{0: 0.3554834941851943,\n",
       " 1: 0.2659538704545025,\n",
       " 2: 0.31718938996844476,\n",
       " 3: 0.2111740783205706,\n",
       " 4: 0.07596645881657382,\n",
       " 5: 0.07948057788594247,\n",
       " 6: 0.07948057788594247,\n",
       " 7: 0.17095511498035434,\n",
       " 8: 0.2274050914716605,\n",
       " 9: 0.10267519030637758,\n",
       " 10: 0.07596645881657381,\n",
       " 11: 0.05285416945233648,\n",
       " 12: 0.08425192086558088,\n",
       " 13: 0.22646969838808148,\n",
       " 14: 0.10140627846270832,\n",
       " 15: 0.10140627846270832,\n",
       " 16: 0.023634794260596875,\n",
       " 17: 0.09239675666845953,\n",
       " 18: 0.10140627846270832,\n",
       " 19: 0.14791134007618667,\n",
       " 20: 0.10140627846270832,\n",
       " 21: 0.09239675666845953,\n",
       " 22: 0.10140627846270832,\n",
       " 23: 0.15012328691726787,\n",
       " 24: 0.05705373563802805,\n",
       " 25: 0.05920820250279008,\n",
       " 26: 0.07558192219009324,\n",
       " 27: 0.13347932684333308,\n",
       " 28: 0.13107925627221215,\n",
       " 29: 0.13496528673866567,\n",
       " 30: 0.17476027834493085,\n",
       " 31: 0.19103626979791702,\n",
       " 32: 0.3086510477336959,\n",
       " 33: 0.373371213013235}"
      ]
     },
     "execution_count": 41,
     "metadata": {},
     "output_type": "execute_result"
    }
   ],
   "source": [
    "nx.eigenvector_centrality(g)"
   ]
  },
  {
   "cell_type": "code",
   "execution_count": null,
   "metadata": {},
   "outputs": [],
   "source": []
  },
  {
   "cell_type": "markdown",
   "metadata": {},
   "source": [
    "## Katz centrality"
   ]
  },
  {
   "cell_type": "markdown",
   "metadata": {},
   "source": [
    "## PageRank"
   ]
  },
  {
   "cell_type": "markdown",
   "metadata": {},
   "source": [
    "## Betweenness centrality"
   ]
  },
  {
   "cell_type": "markdown",
   "metadata": {},
   "source": [
    "## References \n",
    "```{bibliography}\n",
    ":style: unsrt\n",
    "```"
   ]
  },
  {
   "cell_type": "markdown",
   "metadata": {},
   "source": []
  }
 ],
 "metadata": {
  "interpreter": {
   "hash": "c3423c616dc2c56c4ac2c35df84cd358fdd1f7e3ed83f0665c8486ea72bb1b48"
  },
  "kernelspec": {
   "display_name": "Python 3.9.7 64-bit ('.venv': poetry)",
   "language": "python",
   "name": "python3"
  },
  "language_info": {
   "codemirror_mode": {
    "name": "ipython",
    "version": 3
   },
   "file_extension": ".py",
   "mimetype": "text/x-python",
   "name": "python",
   "nbconvert_exporter": "python",
   "pygments_lexer": "ipython3",
   "version": "3.9.7"
  },
  "orig_nbformat": 4
 },
 "nbformat": 4,
 "nbformat_minor": 2
}
